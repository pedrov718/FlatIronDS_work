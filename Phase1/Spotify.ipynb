{
 "cells": [
  {
   "cell_type": "code",
   "execution_count": 1,
   "metadata": {
    "pycharm": {
     "name": "#%%\n"
    }
   },
   "outputs": [],
   "source": [
    "import pandas as pd\n",
    "from nltk.tokenize import word_tokenize, sent_tokenize"
   ]
  },
  {
   "cell_type": "code",
   "execution_count": 2,
   "metadata": {
    "pycharm": {
     "name": "#%%\n"
    }
   },
   "outputs": [],
   "source": [
    "spotify_reviews_df = pd.read_csv(\"reviews.csv\")"
   ]
  },
  {
   "cell_type": "code",
   "execution_count": 3,
   "metadata": {
    "pycharm": {
     "name": "#%%\n"
    }
   },
   "outputs": [
    {
     "data": {
      "text/plain": "            Time_submitted                                             Review  \\\n0      2022-07-09 15:00:00  Great music service, the audio is high quality...   \n1      2022-07-09 14:21:22  Please ignore previous negative rating. This a...   \n2      2022-07-09 13:27:32  This pop-up \"Get the best Spotify experience o...   \n3      2022-07-09 13:26:45    Really buggy and terrible to use as of recently   \n4      2022-07-09 13:20:49  Dear Spotify why do I get songs that I didn't ...   \n...                    ...                                                ...   \n61589  2022-01-01 03:01:29  Even though it was communicated that lyrics fe...   \n61590  2022-01-01 02:13:40  Use to be sooo good back when I had it, and wh...   \n61591  2022-01-01 01:02:29  This app would be good if not for it taking ov...   \n61592  2022-01-01 00:49:23  The app is good hard to navigate and won't jus...   \n61593  2022-01-01 00:19:09  Its good but sometimes it doesnt load the musi...   \n\n       Rating  Total_thumbsup Reply  \n0           5               2   NaN  \n1           5               1   NaN  \n2           4               0   NaN  \n3           1               1   NaN  \n4           1               1   NaN  \n...       ...             ...   ...  \n61589       1               6   NaN  \n61590       1               0   NaN  \n61591       2              10   NaN  \n61592       2               1   NaN  \n61593       4               0   NaN  \n\n[61594 rows x 5 columns]",
      "text/html": "<div>\n<style scoped>\n    .dataframe tbody tr th:only-of-type {\n        vertical-align: middle;\n    }\n\n    .dataframe tbody tr th {\n        vertical-align: top;\n    }\n\n    .dataframe thead th {\n        text-align: right;\n    }\n</style>\n<table border=\"1\" class=\"dataframe\">\n  <thead>\n    <tr style=\"text-align: right;\">\n      <th></th>\n      <th>Time_submitted</th>\n      <th>Review</th>\n      <th>Rating</th>\n      <th>Total_thumbsup</th>\n      <th>Reply</th>\n    </tr>\n  </thead>\n  <tbody>\n    <tr>\n      <th>0</th>\n      <td>2022-07-09 15:00:00</td>\n      <td>Great music service, the audio is high quality...</td>\n      <td>5</td>\n      <td>2</td>\n      <td>NaN</td>\n    </tr>\n    <tr>\n      <th>1</th>\n      <td>2022-07-09 14:21:22</td>\n      <td>Please ignore previous negative rating. This a...</td>\n      <td>5</td>\n      <td>1</td>\n      <td>NaN</td>\n    </tr>\n    <tr>\n      <th>2</th>\n      <td>2022-07-09 13:27:32</td>\n      <td>This pop-up \"Get the best Spotify experience o...</td>\n      <td>4</td>\n      <td>0</td>\n      <td>NaN</td>\n    </tr>\n    <tr>\n      <th>3</th>\n      <td>2022-07-09 13:26:45</td>\n      <td>Really buggy and terrible to use as of recently</td>\n      <td>1</td>\n      <td>1</td>\n      <td>NaN</td>\n    </tr>\n    <tr>\n      <th>4</th>\n      <td>2022-07-09 13:20:49</td>\n      <td>Dear Spotify why do I get songs that I didn't ...</td>\n      <td>1</td>\n      <td>1</td>\n      <td>NaN</td>\n    </tr>\n    <tr>\n      <th>...</th>\n      <td>...</td>\n      <td>...</td>\n      <td>...</td>\n      <td>...</td>\n      <td>...</td>\n    </tr>\n    <tr>\n      <th>61589</th>\n      <td>2022-01-01 03:01:29</td>\n      <td>Even though it was communicated that lyrics fe...</td>\n      <td>1</td>\n      <td>6</td>\n      <td>NaN</td>\n    </tr>\n    <tr>\n      <th>61590</th>\n      <td>2022-01-01 02:13:40</td>\n      <td>Use to be sooo good back when I had it, and wh...</td>\n      <td>1</td>\n      <td>0</td>\n      <td>NaN</td>\n    </tr>\n    <tr>\n      <th>61591</th>\n      <td>2022-01-01 01:02:29</td>\n      <td>This app would be good if not for it taking ov...</td>\n      <td>2</td>\n      <td>10</td>\n      <td>NaN</td>\n    </tr>\n    <tr>\n      <th>61592</th>\n      <td>2022-01-01 00:49:23</td>\n      <td>The app is good hard to navigate and won't jus...</td>\n      <td>2</td>\n      <td>1</td>\n      <td>NaN</td>\n    </tr>\n    <tr>\n      <th>61593</th>\n      <td>2022-01-01 00:19:09</td>\n      <td>Its good but sometimes it doesnt load the musi...</td>\n      <td>4</td>\n      <td>0</td>\n      <td>NaN</td>\n    </tr>\n  </tbody>\n</table>\n<p>61594 rows × 5 columns</p>\n</div>"
     },
     "execution_count": 3,
     "metadata": {},
     "output_type": "execute_result"
    }
   ],
   "source": [
    "spotify_reviews_df"
   ]
  },
  {
   "cell_type": "code",
   "execution_count": 4,
   "metadata": {
    "pycharm": {
     "name": "#%%\n"
    }
   },
   "outputs": [
    {
     "data": {
      "text/plain": "Index(['Time_submitted', 'Review', 'Rating', 'Total_thumbsup', 'Reply'], dtype='object')"
     },
     "execution_count": 4,
     "metadata": {},
     "output_type": "execute_result"
    }
   ],
   "source": [
    "spotify_reviews_df.keys()"
   ]
  },
  {
   "cell_type": "code",
   "execution_count": 5,
   "outputs": [
    {
     "name": "stdout",
     "output_type": "stream",
     "text": [
      "<class 'pandas.core.frame.DataFrame'>\n",
      "RangeIndex: 61594 entries, 0 to 61593\n",
      "Data columns (total 5 columns):\n",
      " #   Column          Non-Null Count  Dtype \n",
      "---  ------          --------------  ----- \n",
      " 0   Time_submitted  61594 non-null  object\n",
      " 1   Review          61594 non-null  object\n",
      " 2   Rating          61594 non-null  int64 \n",
      " 3   Total_thumbsup  61594 non-null  int64 \n",
      " 4   Reply           216 non-null    object\n",
      "dtypes: int64(2), object(3)\n",
      "memory usage: 2.3+ MB\n"
     ]
    }
   ],
   "source": [
    "spotify_reviews_df.info()"
   ],
   "metadata": {
    "collapsed": false,
    "pycharm": {
     "name": "#%%\n"
    }
   }
  },
  {
   "cell_type": "code",
   "execution_count": 6,
   "outputs": [
    {
     "data": {
      "text/plain": "                                                  Review  Rating\n0      Great music service, the audio is high quality...       5\n1      Please ignore previous negative rating. This a...       5\n2      This pop-up \"Get the best Spotify experience o...       4\n3        Really buggy and terrible to use as of recently       1\n4      Dear Spotify why do I get songs that I didn't ...       1\n...                                                  ...     ...\n61589  Even though it was communicated that lyrics fe...       1\n61590  Use to be sooo good back when I had it, and wh...       1\n61591  This app would be good if not for it taking ov...       2\n61592  The app is good hard to navigate and won't jus...       2\n61593  Its good but sometimes it doesnt load the musi...       4\n\n[61594 rows x 2 columns]",
      "text/html": "<div>\n<style scoped>\n    .dataframe tbody tr th:only-of-type {\n        vertical-align: middle;\n    }\n\n    .dataframe tbody tr th {\n        vertical-align: top;\n    }\n\n    .dataframe thead th {\n        text-align: right;\n    }\n</style>\n<table border=\"1\" class=\"dataframe\">\n  <thead>\n    <tr style=\"text-align: right;\">\n      <th></th>\n      <th>Review</th>\n      <th>Rating</th>\n    </tr>\n  </thead>\n  <tbody>\n    <tr>\n      <th>0</th>\n      <td>Great music service, the audio is high quality...</td>\n      <td>5</td>\n    </tr>\n    <tr>\n      <th>1</th>\n      <td>Please ignore previous negative rating. This a...</td>\n      <td>5</td>\n    </tr>\n    <tr>\n      <th>2</th>\n      <td>This pop-up \"Get the best Spotify experience o...</td>\n      <td>4</td>\n    </tr>\n    <tr>\n      <th>3</th>\n      <td>Really buggy and terrible to use as of recently</td>\n      <td>1</td>\n    </tr>\n    <tr>\n      <th>4</th>\n      <td>Dear Spotify why do I get songs that I didn't ...</td>\n      <td>1</td>\n    </tr>\n    <tr>\n      <th>...</th>\n      <td>...</td>\n      <td>...</td>\n    </tr>\n    <tr>\n      <th>61589</th>\n      <td>Even though it was communicated that lyrics fe...</td>\n      <td>1</td>\n    </tr>\n    <tr>\n      <th>61590</th>\n      <td>Use to be sooo good back when I had it, and wh...</td>\n      <td>1</td>\n    </tr>\n    <tr>\n      <th>61591</th>\n      <td>This app would be good if not for it taking ov...</td>\n      <td>2</td>\n    </tr>\n    <tr>\n      <th>61592</th>\n      <td>The app is good hard to navigate and won't jus...</td>\n      <td>2</td>\n    </tr>\n    <tr>\n      <th>61593</th>\n      <td>Its good but sometimes it doesnt load the musi...</td>\n      <td>4</td>\n    </tr>\n  </tbody>\n</table>\n<p>61594 rows × 2 columns</p>\n</div>"
     },
     "execution_count": 6,
     "metadata": {},
     "output_type": "execute_result"
    }
   ],
   "source": [
    "spotify_reviews_df[[\"Review\", \"Rating\"]]"
   ],
   "metadata": {
    "collapsed": false,
    "pycharm": {
     "name": "#%%\n"
    }
   }
  },
  {
   "cell_type": "code",
   "execution_count": 7,
   "outputs": [],
   "source": [
    "spotify_reviews_df['Tokenized_sentences'] = spotify_reviews_df['Review'].apply(sent_tokenize)"
   ],
   "metadata": {
    "collapsed": false,
    "pycharm": {
     "name": "#%%\n"
    }
   }
  },
  {
   "cell_type": "code",
   "execution_count": 8,
   "outputs": [
    {
     "data": {
      "text/plain": "            Time_submitted                                             Review  \\\n0      2022-07-09 15:00:00  Great music service, the audio is high quality...   \n1      2022-07-09 14:21:22  Please ignore previous negative rating. This a...   \n2      2022-07-09 13:27:32  This pop-up \"Get the best Spotify experience o...   \n3      2022-07-09 13:26:45    Really buggy and terrible to use as of recently   \n4      2022-07-09 13:20:49  Dear Spotify why do I get songs that I didn't ...   \n...                    ...                                                ...   \n61589  2022-01-01 03:01:29  Even though it was communicated that lyrics fe...   \n61590  2022-01-01 02:13:40  Use to be sooo good back when I had it, and wh...   \n61591  2022-01-01 01:02:29  This app would be good if not for it taking ov...   \n61592  2022-01-01 00:49:23  The app is good hard to navigate and won't jus...   \n61593  2022-01-01 00:19:09  Its good but sometimes it doesnt load the musi...   \n\n       Rating  Total_thumbsup Reply  \\\n0           5               2   NaN   \n1           5               1   NaN   \n2           4               0   NaN   \n3           1               1   NaN   \n4           1               1   NaN   \n...       ...             ...   ...   \n61589       1               6   NaN   \n61590       1               0   NaN   \n61591       2              10   NaN   \n61592       2               1   NaN   \n61593       4               0   NaN   \n\n                                     Tokenized_sentences  \n0      [Great music service, the audio is high qualit...  \n1      [Please ignore previous negative rating., This...  \n2      [This pop-up \"Get the best Spotify experience ...  \n3      [Really buggy and terrible to use as of recently]  \n4      [Dear Spotify why do I get songs that I didn't...  \n...                                                  ...  \n61589  [Even though it was communicated that lyrics f...  \n61590  [Use to be sooo good back when I had it, and w...  \n61591  [This app would be good if not for it taking o...  \n61592  [The app is good hard to navigate and won't ju...  \n61593  [Its good but sometimes it doesnt load the mus...  \n\n[61594 rows x 6 columns]",
      "text/html": "<div>\n<style scoped>\n    .dataframe tbody tr th:only-of-type {\n        vertical-align: middle;\n    }\n\n    .dataframe tbody tr th {\n        vertical-align: top;\n    }\n\n    .dataframe thead th {\n        text-align: right;\n    }\n</style>\n<table border=\"1\" class=\"dataframe\">\n  <thead>\n    <tr style=\"text-align: right;\">\n      <th></th>\n      <th>Time_submitted</th>\n      <th>Review</th>\n      <th>Rating</th>\n      <th>Total_thumbsup</th>\n      <th>Reply</th>\n      <th>Tokenized_sentences</th>\n    </tr>\n  </thead>\n  <tbody>\n    <tr>\n      <th>0</th>\n      <td>2022-07-09 15:00:00</td>\n      <td>Great music service, the audio is high quality...</td>\n      <td>5</td>\n      <td>2</td>\n      <td>NaN</td>\n      <td>[Great music service, the audio is high qualit...</td>\n    </tr>\n    <tr>\n      <th>1</th>\n      <td>2022-07-09 14:21:22</td>\n      <td>Please ignore previous negative rating. This a...</td>\n      <td>5</td>\n      <td>1</td>\n      <td>NaN</td>\n      <td>[Please ignore previous negative rating., This...</td>\n    </tr>\n    <tr>\n      <th>2</th>\n      <td>2022-07-09 13:27:32</td>\n      <td>This pop-up \"Get the best Spotify experience o...</td>\n      <td>4</td>\n      <td>0</td>\n      <td>NaN</td>\n      <td>[This pop-up \"Get the best Spotify experience ...</td>\n    </tr>\n    <tr>\n      <th>3</th>\n      <td>2022-07-09 13:26:45</td>\n      <td>Really buggy and terrible to use as of recently</td>\n      <td>1</td>\n      <td>1</td>\n      <td>NaN</td>\n      <td>[Really buggy and terrible to use as of recently]</td>\n    </tr>\n    <tr>\n      <th>4</th>\n      <td>2022-07-09 13:20:49</td>\n      <td>Dear Spotify why do I get songs that I didn't ...</td>\n      <td>1</td>\n      <td>1</td>\n      <td>NaN</td>\n      <td>[Dear Spotify why do I get songs that I didn't...</td>\n    </tr>\n    <tr>\n      <th>...</th>\n      <td>...</td>\n      <td>...</td>\n      <td>...</td>\n      <td>...</td>\n      <td>...</td>\n      <td>...</td>\n    </tr>\n    <tr>\n      <th>61589</th>\n      <td>2022-01-01 03:01:29</td>\n      <td>Even though it was communicated that lyrics fe...</td>\n      <td>1</td>\n      <td>6</td>\n      <td>NaN</td>\n      <td>[Even though it was communicated that lyrics f...</td>\n    </tr>\n    <tr>\n      <th>61590</th>\n      <td>2022-01-01 02:13:40</td>\n      <td>Use to be sooo good back when I had it, and wh...</td>\n      <td>1</td>\n      <td>0</td>\n      <td>NaN</td>\n      <td>[Use to be sooo good back when I had it, and w...</td>\n    </tr>\n    <tr>\n      <th>61591</th>\n      <td>2022-01-01 01:02:29</td>\n      <td>This app would be good if not for it taking ov...</td>\n      <td>2</td>\n      <td>10</td>\n      <td>NaN</td>\n      <td>[This app would be good if not for it taking o...</td>\n    </tr>\n    <tr>\n      <th>61592</th>\n      <td>2022-01-01 00:49:23</td>\n      <td>The app is good hard to navigate and won't jus...</td>\n      <td>2</td>\n      <td>1</td>\n      <td>NaN</td>\n      <td>[The app is good hard to navigate and won't ju...</td>\n    </tr>\n    <tr>\n      <th>61593</th>\n      <td>2022-01-01 00:19:09</td>\n      <td>Its good but sometimes it doesnt load the musi...</td>\n      <td>4</td>\n      <td>0</td>\n      <td>NaN</td>\n      <td>[Its good but sometimes it doesnt load the mus...</td>\n    </tr>\n  </tbody>\n</table>\n<p>61594 rows × 6 columns</p>\n</div>"
     },
     "execution_count": 8,
     "metadata": {},
     "output_type": "execute_result"
    }
   ],
   "source": [
    "spotify_reviews_df"
   ],
   "metadata": {
    "collapsed": false,
    "pycharm": {
     "name": "#%%\n"
    }
   }
  },
  {
   "cell_type": "markdown",
   "source": [],
   "metadata": {
    "collapsed": false,
    "pycharm": {
     "name": "#%% md\n"
    }
   }
  }
 ],
 "metadata": {
  "kernelspec": {
   "display_name": "Python (learn-env)",
   "language": "python",
   "name": "learn-env"
  },
  "language_info": {
   "codemirror_mode": {
    "name": "ipython",
    "version": 3
   },
   "file_extension": ".py",
   "mimetype": "text/x-python",
   "name": "python",
   "nbconvert_exporter": "python",
   "pygments_lexer": "ipython3",
   "version": "3.8.5"
  }
 },
 "nbformat": 4,
 "nbformat_minor": 4
}