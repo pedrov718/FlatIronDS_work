{
 "cells": [
  {
   "cell_type": "markdown",
   "source": [
    "Day 2 Code Challenge:"
   ],
   "metadata": {
    "collapsed": false,
    "pycharm": {
     "name": "#%% md\n"
    }
   }
  },
  {
   "cell_type": "code",
   "execution_count": 29,
   "metadata": {
    "pycharm": {
     "name": "#%%\n"
    }
   },
   "outputs": [],
   "source": [
    "words = ['stacked','bored' ,'kayak', 'deified',\n",
    " 'rotator' ,'repaper', 'deed', 'peep' ,'wow' ,'noon',\n",
    " 'fried', 'turkeys', 'batton', 'tiger','lions', 'bears']"
   ]
  },
  {
   "cell_type": "code",
   "execution_count": 30,
   "metadata": {
    "pycharm": {
     "name": "#%%\n"
    }
   },
   "outputs": [],
   "source": [
    "palin = []\n",
    "not_palin = []\n",
    "palindrome = {}\n",
    "for word in words:\n",
    "    if word == word[::-1]:\n",
    "        palin.append(word)\n",
    "        palindrome[word] = True    \n",
    "    else:\n",
    "        not_palin.append(word)\n",
    "        palindrome[word] = False"
   ]
  },
  {
   "cell_type": "code",
   "execution_count": 31,
   "metadata": {
    "pycharm": {
     "name": "#%%\n"
    }
   },
   "outputs": [
    {
     "data": {
      "text/plain": [
       "{'stacked': False,\n",
       " 'bored': False,\n",
       " 'kayak': True,\n",
       " 'deified': True,\n",
       " 'rotator': True,\n",
       " 'repaper': True,\n",
       " 'deed': True,\n",
       " 'peep': True,\n",
       " 'wow': True,\n",
       " 'noon': True,\n",
       " 'fried': False,\n",
       " 'turkeys': False,\n",
       " 'batton': False,\n",
       " 'tiger': False,\n",
       " 'lions': False,\n",
       " 'bears': False}"
      ]
     },
     "execution_count": 31,
     "metadata": {},
     "output_type": "execute_result"
    }
   ],
   "source": [
    "palindrome"
   ]
  },
  {
   "cell_type": "markdown",
   "source": [
    "Day 3 Code Challenge:"
   ],
   "metadata": {
    "collapsed": false,
    "pycharm": {
     "name": "#%% md\n"
    }
   }
  },
  {
   "cell_type": "code",
   "execution_count": null,
   "outputs": [],
   "source": [
    "with open(\"codingstorypractice.txt\") as f:\n",
    "    content = f.read()\n",
    "content_list = content.split()\n",
    "print(content_list)\n",
    "\n",
    "content_list[3] = \"Mexico\"\n",
    "content_list[7] = \"Moose\"\n",
    "content_list[11] = \"Drunk\"\n",
    "content_list[14] = \"and got\"\n",
    "content_list[15] = \"pulled over\"\n",
    "content_list[20] = \"jail\"\n",
    "content_list[22] = \"cried\"\n",
    "\n",
    "story = \" \".join(content_list)\n",
    "\n",
    "print(story)\n",
    "\n",
    "\n",
    "with open('quotes.txt', 'w', encoding='utf-8') as f:\n",
    "    f.write(story)"
   ],
   "metadata": {
    "collapsed": false,
    "pycharm": {
     "name": "#%%\n"
    }
   }
  }
 ],
 "metadata": {
  "kernelspec": {
   "display_name": "Python (learn-env)",
   "language": "python",
   "name": "learn-env"
  },
  "language_info": {
   "codemirror_mode": {
    "name": "ipython",
    "version": 3
   },
   "file_extension": ".py",
   "mimetype": "text/x-python",
   "name": "python",
   "nbconvert_exporter": "python",
   "pygments_lexer": "ipython3",
   "version": "3.8.5"
  }
 },
 "nbformat": 4,
 "nbformat_minor": 4
}