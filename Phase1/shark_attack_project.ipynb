{
 "cells": [
  {
   "cell_type": "markdown",
   "metadata": {
    "pycharm": {
     "name": "#%% md\n"
    }
   },
   "source": [
    "All individuals survived unless noted otherwise.\n",
    "Entries on the spreadsheet are color-coded.\n",
    "\n",
    "• Unprovoked Incidents = Tan\n",
    "• Provoked Incidents = Orange\n",
    "• Incidents Involving Watercrafts = Green\n",
    "• Air / Sea Disasters = Yellow\n",
    "• Questionable Incidents = Blue\n",
    "\n",
    "Unprovoked vs. Provoked - GSAF defines a provoked incident as one in which the shark was speared, hooked, captured or in which a human drew \"first blood\". Although such incidents are of little interest to shark behaviorists, when the species of shark involved is known and pre-op photos of the wounds are available, the bite patterns are of value in determining species of shark involved in other cases when the species could not identified by the patient or witnesses. We know that a live human is rarely perceived as prey by a shark. Many incidents are motivated by curiosity, others may result when a shark perceives a human as a threat or competitor for a food source, and could be classed as \"provoked\" when examined from the shark's perspective.\n",
    "\n",
    "Incidents involving watercraft – Incidents in which a boat was bitten or rammed by a shark are in green. However, in cases in which the shark was hooked, netted or gaffed, the entry is orange because they are classed as provoked incidents.\n",
    "\n",
    "Questionable incidents - Incidents in which there are insufficient data to determine if the injury was caused by a shark or the person drowned and the body was later scavenged by sharks. In a few cases, despite media reports to the contrary, evidence indicated there was no shark involvement whatsoever. Such incidents are in blue.\n",
    "\n",
    "https://www.sharkattackfile.net/incidentlog.htm"
   ]
  },
  {
   "cell_type": "code",
   "execution_count": 40,
   "metadata": {
    "pycharm": {
     "name": "#%%\n"
    }
   },
   "outputs": [],
   "source": [
    "import pandas as pd\n",
    "import matplotlib as plt"
   ]
  },
  {
   "cell_type": "code",
   "execution_count": 41,
   "metadata": {
    "pycharm": {
     "name": "#%%\n"
    }
   },
   "outputs": [],
   "source": [
    "shark_df =  df = pd.read_excel(\"shark_attack_data.xls\", na_filter = False, usecols = \"B:O\", nrows = 6774, na_values = \"UNKNOWN\")"
   ]
  },
  {
   "cell_type": "code",
   "execution_count": 42,
   "metadata": {
    "pycharm": {
     "name": "#%%\n"
    }
   },
   "outputs": [
    {
     "data": {
      "text/plain": "          Date  Year        Type       Country                           Area  \\\n0  03-Jul-2022  2022  Unprovoked           USA                       New York   \n1  01-Jul-2022  2022  Unprovoked         EGYPT  Hurghada, Red Sea Governorate   \n2  01-Jul-2022  2022  Unprovoked         EGYPT  Hurghada, Red Sea Governorate   \n3  30-Jun-2022  2022  Unprovoked           USA                       New York   \n4  30-Jun-2022  2022  Unprovoked           USA                        Florida   \n5  29-Jun-2022  2022  Unprovoked           USA                        Florida   \n6  29-Jun-2022  2022  Unprovoked           USA                        Florida   \n7  28-Jun-2022  2022  Unprovoked  SOUTH AFRICA          Western Cape Province   \n8  24-Jun-2022  2022                  JA MAICA                                  \n9  23-Jun-2022  2022  Unprovoked           USA                        Florida   \n\n                            Location             Activity  \\\n0  Smith Point Beach, Suffolk County  Lifeguard Exercises   \n1                      Sahl Hasheesh             Swimming   \n2                      Sahl Hasheesh             Swimming   \n3         Jones Beach, Nassau County             Swimming   \n4                     Keaton Beach,            Scalloping   \n5         Sawyer Key,  Monroe County             Swimming   \n6      Summerland Key, Monroe County    Jumped into water   \n7   Sanctuary Beach, Plettenberg Bay             Swimming   \n8                                                 Fishing   \n9   Redington Beach, Pinellas County                        \n\n                    Name Sex   Age                            Injury  \\\n0             Zach Gallo    M       Injuries to chest and right hand   \n1        Romanian female    F  40s                             FATAL   \n2        Elisabeth Sauer    F   68                             FATAL   \n3                   male    M                   Injury to right foot   \n4         Addison Bethea    F   17          Severe bite to right leg   \n5  Lindsay Rebecca Bruns    F  30s                 Laceration to leg   \n6                   male    M                      Laceration to leg   \n7            Bruce Wolov    M                                  FATAL   \n8        Michael Simpson    M                      Right arm severed   \n9                 female    F                             Leg bitten   \n\n  Fatal (Y/N)       Time                         Species   \n0           N      10h15                          5'shark  \n1           Y                                              \n2           Y                                    2m shark  \n3           N      13h00  Shark involvement not confirmed  \n4           N      15h00                         9' shark  \n5           N      20h00                                   \n6           N  Afternoon                                   \n7           Y      14h09                      While shark  \n8           N  Afternoon                 Tiger shark, 15'  \n9           N                                              ",
      "text/html": "<div>\n<style scoped>\n    .dataframe tbody tr th:only-of-type {\n        vertical-align: middle;\n    }\n\n    .dataframe tbody tr th {\n        vertical-align: top;\n    }\n\n    .dataframe thead th {\n        text-align: right;\n    }\n</style>\n<table border=\"1\" class=\"dataframe\">\n  <thead>\n    <tr style=\"text-align: right;\">\n      <th></th>\n      <th>Date</th>\n      <th>Year</th>\n      <th>Type</th>\n      <th>Country</th>\n      <th>Area</th>\n      <th>Location</th>\n      <th>Activity</th>\n      <th>Name</th>\n      <th>Sex</th>\n      <th>Age</th>\n      <th>Injury</th>\n      <th>Fatal (Y/N)</th>\n      <th>Time</th>\n      <th>Species</th>\n    </tr>\n  </thead>\n  <tbody>\n    <tr>\n      <th>0</th>\n      <td>03-Jul-2022</td>\n      <td>2022</td>\n      <td>Unprovoked</td>\n      <td>USA</td>\n      <td>New York</td>\n      <td>Smith Point Beach, Suffolk County</td>\n      <td>Lifeguard Exercises</td>\n      <td>Zach Gallo</td>\n      <td>M</td>\n      <td></td>\n      <td>Injuries to chest and right hand</td>\n      <td>N</td>\n      <td>10h15</td>\n      <td>5'shark</td>\n    </tr>\n    <tr>\n      <th>1</th>\n      <td>01-Jul-2022</td>\n      <td>2022</td>\n      <td>Unprovoked</td>\n      <td>EGYPT</td>\n      <td>Hurghada, Red Sea Governorate</td>\n      <td>Sahl Hasheesh</td>\n      <td>Swimming</td>\n      <td>Romanian female</td>\n      <td>F</td>\n      <td>40s</td>\n      <td>FATAL</td>\n      <td>Y</td>\n      <td></td>\n      <td></td>\n    </tr>\n    <tr>\n      <th>2</th>\n      <td>01-Jul-2022</td>\n      <td>2022</td>\n      <td>Unprovoked</td>\n      <td>EGYPT</td>\n      <td>Hurghada, Red Sea Governorate</td>\n      <td>Sahl Hasheesh</td>\n      <td>Swimming</td>\n      <td>Elisabeth Sauer</td>\n      <td>F</td>\n      <td>68</td>\n      <td>FATAL</td>\n      <td>Y</td>\n      <td></td>\n      <td>2m shark</td>\n    </tr>\n    <tr>\n      <th>3</th>\n      <td>30-Jun-2022</td>\n      <td>2022</td>\n      <td>Unprovoked</td>\n      <td>USA</td>\n      <td>New York</td>\n      <td>Jones Beach, Nassau County</td>\n      <td>Swimming</td>\n      <td>male</td>\n      <td>M</td>\n      <td></td>\n      <td>Injury to right foot</td>\n      <td>N</td>\n      <td>13h00</td>\n      <td>Shark involvement not confirmed</td>\n    </tr>\n    <tr>\n      <th>4</th>\n      <td>30-Jun-2022</td>\n      <td>2022</td>\n      <td>Unprovoked</td>\n      <td>USA</td>\n      <td>Florida</td>\n      <td>Keaton Beach,</td>\n      <td>Scalloping</td>\n      <td>Addison Bethea</td>\n      <td>F</td>\n      <td>17</td>\n      <td>Severe bite to right leg</td>\n      <td>N</td>\n      <td>15h00</td>\n      <td>9' shark</td>\n    </tr>\n    <tr>\n      <th>5</th>\n      <td>29-Jun-2022</td>\n      <td>2022</td>\n      <td>Unprovoked</td>\n      <td>USA</td>\n      <td>Florida</td>\n      <td>Sawyer Key,  Monroe County</td>\n      <td>Swimming</td>\n      <td>Lindsay Rebecca Bruns</td>\n      <td>F</td>\n      <td>30s</td>\n      <td>Laceration to leg</td>\n      <td>N</td>\n      <td>20h00</td>\n      <td></td>\n    </tr>\n    <tr>\n      <th>6</th>\n      <td>29-Jun-2022</td>\n      <td>2022</td>\n      <td>Unprovoked</td>\n      <td>USA</td>\n      <td>Florida</td>\n      <td>Summerland Key, Monroe County</td>\n      <td>Jumped into water</td>\n      <td>male</td>\n      <td>M</td>\n      <td></td>\n      <td>Laceration to leg</td>\n      <td>N</td>\n      <td>Afternoon</td>\n      <td></td>\n    </tr>\n    <tr>\n      <th>7</th>\n      <td>28-Jun-2022</td>\n      <td>2022</td>\n      <td>Unprovoked</td>\n      <td>SOUTH AFRICA</td>\n      <td>Western Cape Province</td>\n      <td>Sanctuary Beach, Plettenberg Bay</td>\n      <td>Swimming</td>\n      <td>Bruce Wolov</td>\n      <td>M</td>\n      <td></td>\n      <td>FATAL</td>\n      <td>Y</td>\n      <td>14h09</td>\n      <td>While shark</td>\n    </tr>\n    <tr>\n      <th>8</th>\n      <td>24-Jun-2022</td>\n      <td>2022</td>\n      <td></td>\n      <td>JA MAICA</td>\n      <td></td>\n      <td></td>\n      <td>Fishing</td>\n      <td>Michael Simpson</td>\n      <td>M</td>\n      <td></td>\n      <td>Right arm severed</td>\n      <td>N</td>\n      <td>Afternoon</td>\n      <td>Tiger shark, 15'</td>\n    </tr>\n    <tr>\n      <th>9</th>\n      <td>23-Jun-2022</td>\n      <td>2022</td>\n      <td>Unprovoked</td>\n      <td>USA</td>\n      <td>Florida</td>\n      <td>Redington Beach, Pinellas County</td>\n      <td></td>\n      <td>female</td>\n      <td>F</td>\n      <td></td>\n      <td>Leg bitten</td>\n      <td>N</td>\n      <td></td>\n      <td></td>\n    </tr>\n  </tbody>\n</table>\n</div>"
     },
     "execution_count": 42,
     "metadata": {},
     "output_type": "execute_result"
    }
   ],
   "source": [
    "shark_df.head(10)"
   ]
  },
  {
   "cell_type": "code",
   "execution_count": 43,
   "metadata": {
    "pycharm": {
     "name": "#%%\n"
    }
   },
   "outputs": [
    {
     "data": {
      "text/plain": "             Date  Year        Type             Country               Area  \\\n6769  Before 1903  0000  Unprovoked           AUSTRALIA  Western Australia   \n6770  Before 1903  0000  Unprovoked           AUSTRALIA  Western Australia   \n6771    1900-1905  0000  Unprovoked                 USA     North Carolina   \n6772    1883-1889  0000  Unprovoked              PANAMA                      \n6773    1845-1853  0000  Unprovoked  CEYLON (SRI LANKA)   Eastern Province   \n\n                                 Location      Activity  \\\n6769                          Roebuck Bay        Diving   \n6770                                       Pearl diving   \n6771                       Ocracoke Inlet      Swimming   \n6772                 Panama Bay 8ºN, 79ºW                 \n6773  Below the English fort, Trincomalee      Swimming   \n\n                       Name Sex  Age  \\\n6769                   male    M       \n6770                  Ahmun    M       \n6771  Coast Guard personnel    M       \n6772        Jules Patterson    M       \n6773                   male    M  15   \n\n                                                 Injury Fatal (Y/N) Time  \\\n6769                                              FATAL           Y        \n6770                                              FATAL           Y        \n6771                                              FATAL           Y        \n6772                                              FATAL           Y        \n6773  FATAL. \"Shark bit him in half, carrying away t...           Y        \n\n     Species   \n6769           \n6770           \n6771           \n6772           \n6773           ",
      "text/html": "<div>\n<style scoped>\n    .dataframe tbody tr th:only-of-type {\n        vertical-align: middle;\n    }\n\n    .dataframe tbody tr th {\n        vertical-align: top;\n    }\n\n    .dataframe thead th {\n        text-align: right;\n    }\n</style>\n<table border=\"1\" class=\"dataframe\">\n  <thead>\n    <tr style=\"text-align: right;\">\n      <th></th>\n      <th>Date</th>\n      <th>Year</th>\n      <th>Type</th>\n      <th>Country</th>\n      <th>Area</th>\n      <th>Location</th>\n      <th>Activity</th>\n      <th>Name</th>\n      <th>Sex</th>\n      <th>Age</th>\n      <th>Injury</th>\n      <th>Fatal (Y/N)</th>\n      <th>Time</th>\n      <th>Species</th>\n    </tr>\n  </thead>\n  <tbody>\n    <tr>\n      <th>6769</th>\n      <td>Before 1903</td>\n      <td>0000</td>\n      <td>Unprovoked</td>\n      <td>AUSTRALIA</td>\n      <td>Western Australia</td>\n      <td>Roebuck Bay</td>\n      <td>Diving</td>\n      <td>male</td>\n      <td>M</td>\n      <td></td>\n      <td>FATAL</td>\n      <td>Y</td>\n      <td></td>\n      <td></td>\n    </tr>\n    <tr>\n      <th>6770</th>\n      <td>Before 1903</td>\n      <td>0000</td>\n      <td>Unprovoked</td>\n      <td>AUSTRALIA</td>\n      <td>Western Australia</td>\n      <td></td>\n      <td>Pearl diving</td>\n      <td>Ahmun</td>\n      <td>M</td>\n      <td></td>\n      <td>FATAL</td>\n      <td>Y</td>\n      <td></td>\n      <td></td>\n    </tr>\n    <tr>\n      <th>6771</th>\n      <td>1900-1905</td>\n      <td>0000</td>\n      <td>Unprovoked</td>\n      <td>USA</td>\n      <td>North Carolina</td>\n      <td>Ocracoke Inlet</td>\n      <td>Swimming</td>\n      <td>Coast Guard personnel</td>\n      <td>M</td>\n      <td></td>\n      <td>FATAL</td>\n      <td>Y</td>\n      <td></td>\n      <td></td>\n    </tr>\n    <tr>\n      <th>6772</th>\n      <td>1883-1889</td>\n      <td>0000</td>\n      <td>Unprovoked</td>\n      <td>PANAMA</td>\n      <td></td>\n      <td>Panama Bay 8ºN, 79ºW</td>\n      <td></td>\n      <td>Jules Patterson</td>\n      <td>M</td>\n      <td></td>\n      <td>FATAL</td>\n      <td>Y</td>\n      <td></td>\n      <td></td>\n    </tr>\n    <tr>\n      <th>6773</th>\n      <td>1845-1853</td>\n      <td>0000</td>\n      <td>Unprovoked</td>\n      <td>CEYLON (SRI LANKA)</td>\n      <td>Eastern Province</td>\n      <td>Below the English fort, Trincomalee</td>\n      <td>Swimming</td>\n      <td>male</td>\n      <td>M</td>\n      <td>15</td>\n      <td>FATAL. \"Shark bit him in half, carrying away t...</td>\n      <td>Y</td>\n      <td></td>\n      <td></td>\n    </tr>\n  </tbody>\n</table>\n</div>"
     },
     "execution_count": 43,
     "metadata": {},
     "output_type": "execute_result"
    }
   ],
   "source": [
    "shark_df.tail()"
   ]
  },
  {
   "cell_type": "code",
   "execution_count": 44,
   "metadata": {
    "pycharm": {
     "name": "#%%\n"
    }
   },
   "outputs": [
    {
     "name": "stdout",
     "output_type": "stream",
     "text": [
      "<class 'pandas.core.frame.DataFrame'>\n",
      "RangeIndex: 6774 entries, 0 to 6773\n",
      "Data columns (total 14 columns):\n",
      " #   Column       Non-Null Count  Dtype \n",
      "---  ------       --------------  ----- \n",
      " 0   Date         6774 non-null   object\n",
      " 1   Year         6774 non-null   object\n",
      " 2   Type         6774 non-null   object\n",
      " 3   Country      6774 non-null   object\n",
      " 4   Area         6774 non-null   object\n",
      " 5   Location     6774 non-null   object\n",
      " 6   Activity     6774 non-null   object\n",
      " 7   Name         6774 non-null   object\n",
      " 8   Sex          6774 non-null   object\n",
      " 9   Age          6774 non-null   object\n",
      " 10  Injury       6774 non-null   object\n",
      " 11  Fatal (Y/N)  6774 non-null   object\n",
      " 12  Time         6774 non-null   object\n",
      " 13  Species      6774 non-null   object\n",
      "dtypes: object(14)\n",
      "memory usage: 741.0+ KB\n"
     ]
    }
   ],
   "source": [
    "shark_df.info()"
   ]
  },
  {
   "cell_type": "code",
   "execution_count": 45,
   "metadata": {
    "pycharm": {
     "name": "#%%\n"
    }
   },
   "outputs": [
    {
     "data": {
      "text/plain": "Index(['Date', 'Year', 'Type', 'Country', 'Area', 'Location', 'Activity',\n       'Name', 'Sex ', 'Age', 'Injury', 'Fatal (Y/N)', 'Time', 'Species '],\n      dtype='object')"
     },
     "execution_count": 45,
     "metadata": {},
     "output_type": "execute_result"
    }
   ],
   "source": [
    "shark_df.keys()"
   ]
  },
  {
   "cell_type": "code",
   "execution_count": 46,
   "metadata": {
    "pycharm": {
     "name": "#%%\n"
    }
   },
   "outputs": [],
   "source": [
    "shark_df.rename(columns = {\"Fatal (Y/N)\" : \"Fatal\"}, inplace = True )"
   ]
  },
  {
   "cell_type": "code",
   "execution_count": 47,
   "metadata": {
    "pycharm": {
     "name": "#%%\n"
    }
   },
   "outputs": [
    {
     "data": {
      "text/plain": "             Date  Year        Type             Country  \\\n0     03-Jul-2022  2022  Unprovoked                 USA   \n1     01-Jul-2022  2022  Unprovoked               EGYPT   \n2     01-Jul-2022  2022  Unprovoked               EGYPT   \n3     30-Jun-2022  2022  Unprovoked                 USA   \n4     30-Jun-2022  2022  Unprovoked                 USA   \n...           ...   ...         ...                 ...   \n6769  Before 1903  0000  Unprovoked           AUSTRALIA   \n6770  Before 1903  0000  Unprovoked           AUSTRALIA   \n6771    1900-1905  0000  Unprovoked                 USA   \n6772    1883-1889  0000  Unprovoked              PANAMA   \n6773    1845-1853  0000  Unprovoked  CEYLON (SRI LANKA)   \n\n                               Area                             Location  \\\n0                          New York    Smith Point Beach, Suffolk County   \n1     Hurghada, Red Sea Governorate                        Sahl Hasheesh   \n2     Hurghada, Red Sea Governorate                        Sahl Hasheesh   \n3                          New York           Jones Beach, Nassau County   \n4                           Florida                       Keaton Beach,    \n...                             ...                                  ...   \n6769              Western Australia                          Roebuck Bay   \n6770              Western Australia                                        \n6771                 North Carolina                       Ocracoke Inlet   \n6772                                                Panama Bay 8ºN, 79ºW   \n6773               Eastern Province  Below the English fort, Trincomalee   \n\n                 Activity Sex   Age  \\\n0     Lifeguard Exercises    M        \n1                Swimming    F  40s   \n2                Swimming    F   68   \n3                Swimming    M        \n4              Scalloping    F   17   \n...                   ...  ...  ...   \n6769               Diving    M        \n6770         Pearl diving    M        \n6771             Swimming    M        \n6772                         M        \n6773             Swimming    M   15   \n\n                                                 Injury Fatal   Time  \\\n0                      Injuries to chest and right hand     N  10h15   \n1                                                 FATAL     Y          \n2                                                 FATAL     Y          \n3                                  Injury to right foot     N  13h00   \n4                              Severe bite to right leg     N  15h00   \n...                                                 ...   ...    ...   \n6769                                              FATAL     Y          \n6770                                              FATAL     Y          \n6771                                              FATAL     Y          \n6772                                              FATAL     Y          \n6773  FATAL. \"Shark bit him in half, carrying away t...     Y          \n\n                             Species   \n0                             5'shark  \n1                                      \n2                            2m shark  \n3     Shark involvement not confirmed  \n4                            9' shark  \n...                               ...  \n6769                                   \n6770                                   \n6771                                   \n6772                                   \n6773                                   \n\n[6774 rows x 13 columns]",
      "text/html": "<div>\n<style scoped>\n    .dataframe tbody tr th:only-of-type {\n        vertical-align: middle;\n    }\n\n    .dataframe tbody tr th {\n        vertical-align: top;\n    }\n\n    .dataframe thead th {\n        text-align: right;\n    }\n</style>\n<table border=\"1\" class=\"dataframe\">\n  <thead>\n    <tr style=\"text-align: right;\">\n      <th></th>\n      <th>Date</th>\n      <th>Year</th>\n      <th>Type</th>\n      <th>Country</th>\n      <th>Area</th>\n      <th>Location</th>\n      <th>Activity</th>\n      <th>Sex</th>\n      <th>Age</th>\n      <th>Injury</th>\n      <th>Fatal</th>\n      <th>Time</th>\n      <th>Species</th>\n    </tr>\n  </thead>\n  <tbody>\n    <tr>\n      <th>0</th>\n      <td>03-Jul-2022</td>\n      <td>2022</td>\n      <td>Unprovoked</td>\n      <td>USA</td>\n      <td>New York</td>\n      <td>Smith Point Beach, Suffolk County</td>\n      <td>Lifeguard Exercises</td>\n      <td>M</td>\n      <td></td>\n      <td>Injuries to chest and right hand</td>\n      <td>N</td>\n      <td>10h15</td>\n      <td>5'shark</td>\n    </tr>\n    <tr>\n      <th>1</th>\n      <td>01-Jul-2022</td>\n      <td>2022</td>\n      <td>Unprovoked</td>\n      <td>EGYPT</td>\n      <td>Hurghada, Red Sea Governorate</td>\n      <td>Sahl Hasheesh</td>\n      <td>Swimming</td>\n      <td>F</td>\n      <td>40s</td>\n      <td>FATAL</td>\n      <td>Y</td>\n      <td></td>\n      <td></td>\n    </tr>\n    <tr>\n      <th>2</th>\n      <td>01-Jul-2022</td>\n      <td>2022</td>\n      <td>Unprovoked</td>\n      <td>EGYPT</td>\n      <td>Hurghada, Red Sea Governorate</td>\n      <td>Sahl Hasheesh</td>\n      <td>Swimming</td>\n      <td>F</td>\n      <td>68</td>\n      <td>FATAL</td>\n      <td>Y</td>\n      <td></td>\n      <td>2m shark</td>\n    </tr>\n    <tr>\n      <th>3</th>\n      <td>30-Jun-2022</td>\n      <td>2022</td>\n      <td>Unprovoked</td>\n      <td>USA</td>\n      <td>New York</td>\n      <td>Jones Beach, Nassau County</td>\n      <td>Swimming</td>\n      <td>M</td>\n      <td></td>\n      <td>Injury to right foot</td>\n      <td>N</td>\n      <td>13h00</td>\n      <td>Shark involvement not confirmed</td>\n    </tr>\n    <tr>\n      <th>4</th>\n      <td>30-Jun-2022</td>\n      <td>2022</td>\n      <td>Unprovoked</td>\n      <td>USA</td>\n      <td>Florida</td>\n      <td>Keaton Beach,</td>\n      <td>Scalloping</td>\n      <td>F</td>\n      <td>17</td>\n      <td>Severe bite to right leg</td>\n      <td>N</td>\n      <td>15h00</td>\n      <td>9' shark</td>\n    </tr>\n    <tr>\n      <th>...</th>\n      <td>...</td>\n      <td>...</td>\n      <td>...</td>\n      <td>...</td>\n      <td>...</td>\n      <td>...</td>\n      <td>...</td>\n      <td>...</td>\n      <td>...</td>\n      <td>...</td>\n      <td>...</td>\n      <td>...</td>\n      <td>...</td>\n    </tr>\n    <tr>\n      <th>6769</th>\n      <td>Before 1903</td>\n      <td>0000</td>\n      <td>Unprovoked</td>\n      <td>AUSTRALIA</td>\n      <td>Western Australia</td>\n      <td>Roebuck Bay</td>\n      <td>Diving</td>\n      <td>M</td>\n      <td></td>\n      <td>FATAL</td>\n      <td>Y</td>\n      <td></td>\n      <td></td>\n    </tr>\n    <tr>\n      <th>6770</th>\n      <td>Before 1903</td>\n      <td>0000</td>\n      <td>Unprovoked</td>\n      <td>AUSTRALIA</td>\n      <td>Western Australia</td>\n      <td></td>\n      <td>Pearl diving</td>\n      <td>M</td>\n      <td></td>\n      <td>FATAL</td>\n      <td>Y</td>\n      <td></td>\n      <td></td>\n    </tr>\n    <tr>\n      <th>6771</th>\n      <td>1900-1905</td>\n      <td>0000</td>\n      <td>Unprovoked</td>\n      <td>USA</td>\n      <td>North Carolina</td>\n      <td>Ocracoke Inlet</td>\n      <td>Swimming</td>\n      <td>M</td>\n      <td></td>\n      <td>FATAL</td>\n      <td>Y</td>\n      <td></td>\n      <td></td>\n    </tr>\n    <tr>\n      <th>6772</th>\n      <td>1883-1889</td>\n      <td>0000</td>\n      <td>Unprovoked</td>\n      <td>PANAMA</td>\n      <td></td>\n      <td>Panama Bay 8ºN, 79ºW</td>\n      <td></td>\n      <td>M</td>\n      <td></td>\n      <td>FATAL</td>\n      <td>Y</td>\n      <td></td>\n      <td></td>\n    </tr>\n    <tr>\n      <th>6773</th>\n      <td>1845-1853</td>\n      <td>0000</td>\n      <td>Unprovoked</td>\n      <td>CEYLON (SRI LANKA)</td>\n      <td>Eastern Province</td>\n      <td>Below the English fort, Trincomalee</td>\n      <td>Swimming</td>\n      <td>M</td>\n      <td>15</td>\n      <td>FATAL. \"Shark bit him in half, carrying away t...</td>\n      <td>Y</td>\n      <td></td>\n      <td></td>\n    </tr>\n  </tbody>\n</table>\n<p>6774 rows × 13 columns</p>\n</div>"
     },
     "execution_count": 47,
     "metadata": {},
     "output_type": "execute_result"
    }
   ],
   "source": [
    "shark_df.drop(columns = \"Name\")"
   ]
  },
  {
   "cell_type": "code",
   "execution_count": 48,
   "metadata": {
    "pycharm": {
     "name": "#%%\n"
    }
   },
   "outputs": [
    {
     "data": {
      "text/plain": "0       2022.0\n1       2022.0\n2       2022.0\n3       2022.0\n4       2022.0\n         ...  \n6769       0.0\n6770       0.0\n6771       0.0\n6772       0.0\n6773       0.0\nName: Year, Length: 6774, dtype: float64"
     },
     "execution_count": 48,
     "metadata": {},
     "output_type": "execute_result"
    }
   ],
   "source": [
    "pd.to_numeric(shark_df[\"Year\"])"
   ]
  },
  {
   "cell_type": "code",
   "execution_count": 49,
   "outputs": [
    {
     "data": {
      "text/plain": "N          4695\nY          1435\n            556\nUNKNOWN      71\n N            7\nF             2\nM             2\n2017          1\ny             1\nY x 2         1\nNq            1\nN             1\nn             1\nName: Fatal, dtype: int64"
     },
     "execution_count": 49,
     "metadata": {},
     "output_type": "execute_result"
    }
   ],
   "source": [
    "shark_df[\"Fatal\"].value_counts()"
   ],
   "metadata": {
    "collapsed": false,
    "pycharm": {
     "name": "#%%\n"
    }
   }
  },
  {
   "cell_type": "code",
   "execution_count": 50,
   "outputs": [
    {
     "data": {
      "text/plain": "27            M\n28            n\n42             \n59             \n64             \n         ...   \n6637    UNKNOWN\n6638    UNKNOWN\n6653           \n6704           \n6749    UNKNOWN\nName: Fatal, Length: 644, dtype: object"
     },
     "execution_count": 50,
     "metadata": {},
     "output_type": "execute_result"
    }
   ],
   "source": [
    "shark_df[\"Fatal\"].loc[((shark_df[\"Fatal\"] != \"N\") & (shark_df[\"Fatal\"] != \"Y\"))]"
   ],
   "metadata": {
    "collapsed": false,
    "pycharm": {
     "name": "#%%\n"
    }
   }
  },
  {
   "cell_type": "code",
   "execution_count": 51,
   "outputs": [
    {
     "ename": "TypeError",
     "evalue": "'Series' object is not callable",
     "output_type": "error",
     "traceback": [
      "\u001B[1;31m---------------------------------------------------------------------------\u001B[0m",
      "\u001B[1;31mTypeError\u001B[0m                                 Traceback (most recent call last)",
      "\u001B[1;32m<ipython-input-51-8dc020b7fdd9>\u001B[0m in \u001B[0;36m<module>\u001B[1;34m\u001B[0m\n\u001B[1;32m----> 1\u001B[1;33m \u001B[0mshark_df\u001B[0m\u001B[1;33m[\u001B[0m\u001B[1;34m\"Fatal\"\u001B[0m\u001B[1;33m]\u001B[0m\u001B[1;33m.\u001B[0m\u001B[0mloc\u001B[0m\u001B[1;33m[\u001B[0m\u001B[1;33m(\u001B[0m\u001B[1;33m(\u001B[0m\u001B[0mshark_df\u001B[0m\u001B[1;33m[\u001B[0m\u001B[1;34m\"Fatal\"\u001B[0m\u001B[1;33m]\u001B[0m \u001B[1;33m==\u001B[0m \u001B[1;34m\"n\"\u001B[0m\u001B[1;33m)\u001B[0m  \u001B[1;33m(\u001B[0m\u001B[0mshark_df\u001B[0m\u001B[1;33m[\u001B[0m\u001B[1;34m\"Fatal\"\u001B[0m\u001B[1;33m]\u001B[0m \u001B[1;33m!=\u001B[0m \u001B[1;34m\"Nq\"\u001B[0m\u001B[1;33m)\u001B[0m \u001B[1;33m&\u001B[0m \u001B[1;33m(\u001B[0m\u001B[0mshark_df\u001B[0m\u001B[1;33m[\u001B[0m\u001B[1;34m\"Fatal\"\u001B[0m\u001B[1;33m]\u001B[0m \u001B[1;33m!=\u001B[0m \u001B[1;34m\"N\"\u001B[0m\u001B[1;33m)\u001B[0m\u001B[1;33m)\u001B[0m\u001B[1;33m]\u001B[0m\u001B[1;33m\u001B[0m\u001B[1;33m\u001B[0m\u001B[0m\n\u001B[0m",
      "\u001B[1;31mTypeError\u001B[0m: 'Series' object is not callable"
     ]
    }
   ],
   "source": [
    "shark_df[\"Fatal\"].loc[((shark_df[\"Fatal\"] == \"n\")  (shark_df[\"Fatal\"] != \"Nq\") & (shark_df[\"Fatal\"] != \"N\"))]"
   ],
   "metadata": {
    "collapsed": false,
    "pycharm": {
     "name": "#%%\n"
    }
   }
  }
 ],
 "metadata": {
  "kernelspec": {
   "display_name": "Python (learn-env)",
   "language": "python",
   "name": "learn-env"
  },
  "language_info": {
   "codemirror_mode": {
    "name": "ipython",
    "version": 3
   },
   "file_extension": ".py",
   "mimetype": "text/x-python",
   "name": "python",
   "nbconvert_exporter": "python",
   "pygments_lexer": "ipython3",
   "version": "3.8.5"
  }
 },
 "nbformat": 4,
 "nbformat_minor": 4
}