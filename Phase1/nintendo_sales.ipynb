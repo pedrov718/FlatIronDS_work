{
 "cells": [
  {
   "cell_type": "code",
   "execution_count": 46,
   "metadata": {
    "collapsed": true,
    "pycharm": {
     "name": "#%%\n"
    }
   },
   "outputs": [],
   "source": [
    "import pandas as pd\n",
    "import matplotlib as plt"
   ]
  },
  {
   "cell_type": "code",
   "execution_count": 47,
   "outputs": [],
   "source": [
    "games = pd.read_csv(\"vgsales-12-4-2019-short.csv\")"
   ],
   "metadata": {
    "collapsed": false,
    "pycharm": {
     "name": "#%%\n"
    }
   }
  },
  {
   "cell_type": "markdown",
   "source": [
    "what are the top 3 nintendo games that recieved the most critic scores greater than a 7.\n",
    "\n",
    "Create a box plot for distribution of total shipped for the sega, activition and ubisoft publishers\n",
    "\n",
    "what is the platform, publisher and name of the game that culd be considered an outlier\n",
    "remove the outlier from the df\n",
    "\n",
    "re create boxplot with outlier removed"
   ],
   "metadata": {
    "collapsed": false,
    "pycharm": {
     "name": "#%% md\n"
    }
   }
  },
  {
   "cell_type": "code",
   "execution_count": 48,
   "outputs": [
    {
     "data": {
      "text/plain": "Index(['Rank', 'Name', 'Genre', 'ESRB_Rating', 'Platform', 'Publisher',\n       'Developer', 'Critic_Score', 'User_Score', 'Total_Shipped',\n       'Global_Sales', 'NA_Sales', 'PAL_Sales', 'JP_Sales', 'Other_Sales',\n       'Year'],\n      dtype='object')"
     },
     "execution_count": 48,
     "metadata": {},
     "output_type": "execute_result"
    }
   ],
   "source": [
    "games.columns"
   ],
   "metadata": {
    "collapsed": false,
    "pycharm": {
     "name": "#%%\n"
    }
   }
  },
  {
   "cell_type": "code",
   "execution_count": 49,
   "outputs": [
    {
     "data": {
      "text/plain": "               Rank  Critic_Score  User_Score  Total_Shipped  Global_Sales  \\\ncount  55792.000000   6536.000000  335.000000    1827.000000  19415.000000   \nmean   27896.500000      7.213709    8.253433       1.887258      0.365503   \nstd    16105.907446      1.454079    1.401489       4.195693      0.833022   \nmin        1.000000      1.000000    2.000000       0.030000      0.000000   \n25%    13948.750000      6.400000    7.800000       0.200000      0.030000   \n50%    27896.500000      7.500000    8.500000       0.590000      0.120000   \n75%    41844.250000      8.300000    9.100000       1.800000      0.360000   \nmax    55792.000000     10.000000   10.000000      82.860000     20.320000   \n\n           NA_Sales     PAL_Sales     JP_Sales   Other_Sales          Year  \ncount  12964.000000  13189.000000  7043.000000  15522.000000  54813.000000  \nmean       0.275541      0.155263     0.110402      0.044719   2005.659095  \nstd        0.512809      0.399257     0.184673      0.129554      8.355585  \nmin        0.000000      0.000000     0.000000      0.000000   1970.000000  \n25%        0.050000      0.010000     0.020000      0.000000   2000.000000  \n50%        0.120000      0.040000     0.050000      0.010000   2008.000000  \n75%        0.290000      0.140000     0.120000      0.040000   2011.000000  \nmax        9.760000      9.850000     2.690000      3.120000   2020.000000  ",
      "text/html": "<div>\n<style scoped>\n    .dataframe tbody tr th:only-of-type {\n        vertical-align: middle;\n    }\n\n    .dataframe tbody tr th {\n        vertical-align: top;\n    }\n\n    .dataframe thead th {\n        text-align: right;\n    }\n</style>\n<table border=\"1\" class=\"dataframe\">\n  <thead>\n    <tr style=\"text-align: right;\">\n      <th></th>\n      <th>Rank</th>\n      <th>Critic_Score</th>\n      <th>User_Score</th>\n      <th>Total_Shipped</th>\n      <th>Global_Sales</th>\n      <th>NA_Sales</th>\n      <th>PAL_Sales</th>\n      <th>JP_Sales</th>\n      <th>Other_Sales</th>\n      <th>Year</th>\n    </tr>\n  </thead>\n  <tbody>\n    <tr>\n      <th>count</th>\n      <td>55792.000000</td>\n      <td>6536.000000</td>\n      <td>335.000000</td>\n      <td>1827.000000</td>\n      <td>19415.000000</td>\n      <td>12964.000000</td>\n      <td>13189.000000</td>\n      <td>7043.000000</td>\n      <td>15522.000000</td>\n      <td>54813.000000</td>\n    </tr>\n    <tr>\n      <th>mean</th>\n      <td>27896.500000</td>\n      <td>7.213709</td>\n      <td>8.253433</td>\n      <td>1.887258</td>\n      <td>0.365503</td>\n      <td>0.275541</td>\n      <td>0.155263</td>\n      <td>0.110402</td>\n      <td>0.044719</td>\n      <td>2005.659095</td>\n    </tr>\n    <tr>\n      <th>std</th>\n      <td>16105.907446</td>\n      <td>1.454079</td>\n      <td>1.401489</td>\n      <td>4.195693</td>\n      <td>0.833022</td>\n      <td>0.512809</td>\n      <td>0.399257</td>\n      <td>0.184673</td>\n      <td>0.129554</td>\n      <td>8.355585</td>\n    </tr>\n    <tr>\n      <th>min</th>\n      <td>1.000000</td>\n      <td>1.000000</td>\n      <td>2.000000</td>\n      <td>0.030000</td>\n      <td>0.000000</td>\n      <td>0.000000</td>\n      <td>0.000000</td>\n      <td>0.000000</td>\n      <td>0.000000</td>\n      <td>1970.000000</td>\n    </tr>\n    <tr>\n      <th>25%</th>\n      <td>13948.750000</td>\n      <td>6.400000</td>\n      <td>7.800000</td>\n      <td>0.200000</td>\n      <td>0.030000</td>\n      <td>0.050000</td>\n      <td>0.010000</td>\n      <td>0.020000</td>\n      <td>0.000000</td>\n      <td>2000.000000</td>\n    </tr>\n    <tr>\n      <th>50%</th>\n      <td>27896.500000</td>\n      <td>7.500000</td>\n      <td>8.500000</td>\n      <td>0.590000</td>\n      <td>0.120000</td>\n      <td>0.120000</td>\n      <td>0.040000</td>\n      <td>0.050000</td>\n      <td>0.010000</td>\n      <td>2008.000000</td>\n    </tr>\n    <tr>\n      <th>75%</th>\n      <td>41844.250000</td>\n      <td>8.300000</td>\n      <td>9.100000</td>\n      <td>1.800000</td>\n      <td>0.360000</td>\n      <td>0.290000</td>\n      <td>0.140000</td>\n      <td>0.120000</td>\n      <td>0.040000</td>\n      <td>2011.000000</td>\n    </tr>\n    <tr>\n      <th>max</th>\n      <td>55792.000000</td>\n      <td>10.000000</td>\n      <td>10.000000</td>\n      <td>82.860000</td>\n      <td>20.320000</td>\n      <td>9.760000</td>\n      <td>9.850000</td>\n      <td>2.690000</td>\n      <td>3.120000</td>\n      <td>2020.000000</td>\n    </tr>\n  </tbody>\n</table>\n</div>"
     },
     "execution_count": 49,
     "metadata": {},
     "output_type": "execute_result"
    }
   ],
   "source": [
    "games.describe()"
   ],
   "metadata": {
    "collapsed": false,
    "pycharm": {
     "name": "#%%\n"
    }
   }
  },
  {
   "cell_type": "markdown",
   "source": [
    "# display the row with the total shipped outlier,\\\n",
    "# display a boxplot of the distribution of total shipped for Wii platform games"
   ],
   "metadata": {
    "collapsed": false,
    "pycharm": {
     "name": "#%% md\n"
    }
   }
  },
  {
   "cell_type": "code",
   "execution_count": 50,
   "outputs": [
    {
     "data": {
      "text/plain": "   Rank        Name   Genre ESRB_Rating Platform Publisher     Developer  \\\n0     1  Wii Sports  Sports           E      Wii  Nintendo  Nintendo EAD   \n\n   Critic_Score  User_Score  Total_Shipped  Global_Sales  NA_Sales  PAL_Sales  \\\n0           7.7         NaN          82.86           NaN       NaN        NaN   \n\n   JP_Sales  Other_Sales    Year  \n0       NaN          NaN  2006.0  ",
      "text/html": "<div>\n<style scoped>\n    .dataframe tbody tr th:only-of-type {\n        vertical-align: middle;\n    }\n\n    .dataframe tbody tr th {\n        vertical-align: top;\n    }\n\n    .dataframe thead th {\n        text-align: right;\n    }\n</style>\n<table border=\"1\" class=\"dataframe\">\n  <thead>\n    <tr style=\"text-align: right;\">\n      <th></th>\n      <th>Rank</th>\n      <th>Name</th>\n      <th>Genre</th>\n      <th>ESRB_Rating</th>\n      <th>Platform</th>\n      <th>Publisher</th>\n      <th>Developer</th>\n      <th>Critic_Score</th>\n      <th>User_Score</th>\n      <th>Total_Shipped</th>\n      <th>Global_Sales</th>\n      <th>NA_Sales</th>\n      <th>PAL_Sales</th>\n      <th>JP_Sales</th>\n      <th>Other_Sales</th>\n      <th>Year</th>\n    </tr>\n  </thead>\n  <tbody>\n    <tr>\n      <th>0</th>\n      <td>1</td>\n      <td>Wii Sports</td>\n      <td>Sports</td>\n      <td>E</td>\n      <td>Wii</td>\n      <td>Nintendo</td>\n      <td>Nintendo EAD</td>\n      <td>7.7</td>\n      <td>NaN</td>\n      <td>82.86</td>\n      <td>NaN</td>\n      <td>NaN</td>\n      <td>NaN</td>\n      <td>NaN</td>\n      <td>NaN</td>\n      <td>2006.0</td>\n    </tr>\n  </tbody>\n</table>\n</div>"
     },
     "execution_count": 50,
     "metadata": {},
     "output_type": "execute_result"
    }
   ],
   "source": [
    "games.loc[games.Total_Shipped == games.Total_Shipped.max()]"
   ],
   "metadata": {
    "collapsed": false,
    "pycharm": {
     "name": "#%%\n"
    }
   }
  },
  {
   "cell_type": "code",
   "execution_count": 51,
   "outputs": [
    {
     "data": {
      "text/plain": "<AxesSubplot:>"
     },
     "execution_count": 51,
     "metadata": {},
     "output_type": "execute_result"
    },
    {
     "data": {
      "text/plain": "<Figure size 432x288 with 1 Axes>",
      "image/png": "[encoded data removed]"
     },
     "metadata": {
      "needs_background": "light"
     },
     "output_type": "display_data"
    }
   ],
   "source": [
    "games.loc[games.Platform == \"Wii\"].groupby(\"Total_Shipped\")[\"Total_Shipped\"].sum().plot(kind = \"box\")"
   ],
   "metadata": {
    "collapsed": false,
    "pycharm": {
     "name": "#%%\n"
    }
   }
  },
  {
   "cell_type": "code",
   "execution_count": 52,
   "outputs": [
    {
     "data": {
      "text/plain": "Madden NFL 07                 8\nLEGO Batman: The Videogame    8\nFIFA 07 Soccer                7\nName: Name, dtype: int64"
     },
     "execution_count": 52,
     "metadata": {},
     "output_type": "execute_result"
    }
   ],
   "source": [
    "games.loc[(games.Critic_Score > 7) | (games.Publisher == \"Nintendo\")][\"Name\"].value_counts()[:3]"
   ],
   "metadata": {
    "collapsed": false,
    "pycharm": {
     "name": "#%%\n"
    }
   }
  },
  {
   "cell_type": "markdown",
   "source": [
    "Create a box plot for distribution of total shipped for the sega, activition and ubisoft publishers\n"
   ],
   "metadata": {
    "collapsed": false,
    "pycharm": {
     "name": "#%% md\n"
    }
   }
  },
  {
   "cell_type": "markdown",
   "source": [],
   "metadata": {
    "collapsed": false,
    "pycharm": {
     "name": "#%% md\n"
    }
   }
  },
  {
   "cell_type": "code",
   "execution_count": 53,
   "outputs": [
    {
     "data": {
      "text/plain": "0                Nintendo\n1                Nintendo\n2                Nintendo\n3        PUBG Corporation\n4                Nintendo\n               ...       \n55787           505 Games\n55788     Mooneye Studios\n55789     Mooneye Studios\n55790     Mooneye Studios\n55791             Unknown\nName: Publisher, Length: 55792, dtype: object"
     },
     "execution_count": 53,
     "metadata": {},
     "output_type": "execute_result"
    }
   ],
   "source": [
    "games.Publisher"
   ],
   "metadata": {
    "collapsed": false,
    "pycharm": {
     "name": "#%%\n"
    }
   }
  },
  {
   "cell_type": "code",
   "execution_count": 54,
   "outputs": [
    {
     "data": {
      "text/plain": "<AxesSubplot:>"
     },
     "execution_count": 54,
     "metadata": {},
     "output_type": "execute_result"
    },
    {
     "data": {
      "text/plain": "<Figure size 432x288 with 1 Axes>",
      "image/png": "[encoded data removed]"
     },
     "metadata": {
      "needs_background": "light"
     },
     "output_type": "display_data"
    }
   ],
   "source": [
    "games.loc[(games.Publisher == \"Ubisoft\") ].groupby(\"Total_Shipped\")[\"Total_Shipped\"].sum().plot(kind = \"box\")"
   ],
   "metadata": {
    "collapsed": false,
    "pycharm": {
     "name": "#%%\n"
    }
   }
  },
  {
   "cell_type": "code",
   "execution_count": 55,
   "outputs": [
    {
     "data": {
      "text/plain": "<AxesSubplot:>"
     },
     "execution_count": 55,
     "metadata": {},
     "output_type": "execute_result"
    },
    {
     "data": {
      "text/plain": "<Figure size 432x288 with 1 Axes>",
      "image/png": "[encoded data removed]"
     },
     "metadata": {
      "needs_background": "light"
     },
     "output_type": "display_data"
    }
   ],
   "source": [
    "games.loc[(games.Publisher == \"Sega\") ].groupby(\"Total_Shipped\")[\"Total_Shipped\"].sum().plot(kind = \"box\")"
   ],
   "metadata": {
    "collapsed": false,
    "pycharm": {
     "name": "#%%\n"
    }
   }
  },
  {
   "cell_type": "code",
   "execution_count": 56,
   "outputs": [
    {
     "data": {
      "text/plain": "<AxesSubplot:>"
     },
     "execution_count": 56,
     "metadata": {},
     "output_type": "execute_result"
    },
    {
     "data": {
      "text/plain": "<Figure size 432x288 with 1 Axes>",
      "image/png": "[encoded data removed]"
     },
     "metadata": {
      "needs_background": "light"
     },
     "output_type": "display_data"
    }
   ],
   "source": [
    "games.loc[(games.Publisher == \"Activision\") ].groupby(\"Total_Shipped\")[\"Total_Shipped\"].sum().plot(kind = \"box\")"
   ],
   "metadata": {
    "collapsed": false,
    "pycharm": {
     "name": "#%%\n"
    }
   }
  },
  {
   "cell_type": "markdown",
   "source": [],
   "metadata": {
    "collapsed": false,
    "pycharm": {
     "name": "#%% md\n"
    }
   }
  },
  {
   "cell_type": "markdown",
   "source": [
    "what is the platform, publisher and name of the game that could be considered an outlier remove the outlier from the df\n",
    "\n",
    "re create boxplot with outlier removed"
   ],
   "metadata": {
    "collapsed": false,
    "pycharm": {
     "name": "#%% md\n"
    }
   }
  },
  {
   "cell_type": "code",
   "execution_count": 57,
   "outputs": [
    {
     "data": {
      "text/plain": "4.2"
     },
     "execution_count": 57,
     "metadata": {},
     "output_type": "execute_result"
    }
   ],
   "source": [
    "q1 = games[\"Total_Shipped\"].quantile(0.25)\n",
    "q3 = games[\"Total_Shipped\"].quantile(0.75)\n",
    "\n",
    "iqr = q3 - q1\n",
    "\n",
    "lower_bound = q1 -(1.5 * iqr)\n",
    "upper_bound = q3 +(1.5 * iqr)\n",
    "\n",
    "upper_bound"
   ],
   "metadata": {
    "collapsed": false,
    "pycharm": {
     "name": "#%%\n"
    }
   }
  },
  {
   "cell_type": "code",
   "execution_count": 58,
   "outputs": [],
   "source": [
    "games.drop(games.loc[games[\"Total_Shipped\"] > upper_bound].index, inplace = True)"
   ],
   "metadata": {
    "collapsed": false,
    "pycharm": {
     "name": "#%%\n"
    }
   }
  },
  {
   "cell_type": "code",
   "execution_count": 62,
   "outputs": [
    {
     "data": {
      "text/plain": "<AxesSubplot:>"
     },
     "execution_count": 62,
     "metadata": {},
     "output_type": "execute_result"
    },
    {
     "data": {
      "text/plain": "<Figure size 432x288 with 1 Axes>",
      "image/png": "[encoded data removed]"
     },
     "metadata": {
      "needs_background": "light"
     },
     "output_type": "display_data"
    }
   ],
   "source": [
    "games.loc[(games.Publisher == \"Ubisoft\")].groupby(\"Total_Shipped\")[\"Total_Shipped\"].sum().plot(kind = \"box\")"
   ],
   "metadata": {
    "collapsed": false,
    "pycharm": {
     "name": "#%%\n"
    }
   }
  },
  {
   "cell_type": "code",
   "execution_count": 60,
   "outputs": [
    {
     "data": {
      "text/plain": "<AxesSubplot:>"
     },
     "execution_count": 60,
     "metadata": {},
     "output_type": "execute_result"
    },
    {
     "data": {
      "text/plain": "<Figure size 432x288 with 1 Axes>",
      "image/png": "[encoded data removed]"
     },
     "metadata": {
      "needs_background": "light"
     },
     "output_type": "display_data"
    }
   ],
   "source": [
    "games.loc[(games.Publisher == \"Sega\") ].groupby(\"Total_Shipped\")[\"Total_Shipped\"].sum().plot(kind = \"box\")"
   ],
   "metadata": {
    "collapsed": false,
    "pycharm": {
     "name": "#%%\n"
    }
   }
  },
  {
   "cell_type": "markdown",
   "source": [],
   "metadata": {
    "collapsed": false,
    "pycharm": {
     "name": "#%% md\n"
    }
   }
  }
 ],
 "metadata": {
  "kernelspec": {
   "display_name": "Python 3",
   "language": "python",
   "name": "python3"
  },
  "language_info": {
   "codemirror_mode": {
    "name": "ipython",
    "version": 2
   },
   "file_extension": ".py",
   "mimetype": "text/x-python",
   "name": "python",
   "nbconvert_exporter": "python",
   "pygments_lexer": "ipython2",
   "version": "2.7.6"
  }
 },
 "nbformat": 4,
 "nbformat_minor": 0
}