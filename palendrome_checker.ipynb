{
 "cells": [
  {
   "cell_type": "code",
   "execution_count": 1,
   "metadata": {},
   "outputs": [],
   "source": [
    "words = ['stacked','bored' ,'kayak', 'deified',\n",
    " 'rotator' ,'repaper', 'deed', 'peep' ,'wow' ,'noon',\n",
    " 'fried', 'turkeys', 'batton', 'tiger','lions', 'bears']"
   ]
  },
  {
   "cell_type": "code",
   "execution_count": 19,
   "metadata": {},
   "outputs": [],
   "source": [
    "palin = []\n",
    "not_palin = []\n",
    "for word in words:\n",
    "    if word == word[::-1]:\n",
    "        palin.append(word)\n",
    "    else:\n",
    "        not_palin.append(word)"
   ]
  },
  {
   "cell_type": "code",
   "execution_count": 17,
   "metadata": {},
   "outputs": [
    {
     "data": {
      "text/plain": [
       "['kayak', 'deified', 'rotator', 'repaper', 'deed', 'peep', 'wow', 'noon']"
      ]
     },
     "execution_count": 17,
     "metadata": {},
     "output_type": "execute_result"
    }
   ],
   "source": [
    "palin"
   ]
  },
  {
   "cell_type": "code",
   "execution_count": 20,
   "metadata": {},
   "outputs": [
    {
     "data": {
      "text/plain": [
       "['stacked', 'bored', 'fried', 'turkeys', 'batton', 'tiger', 'lions', 'bears']"
      ]
     },
     "execution_count": 20,
     "metadata": {},
     "output_type": "execute_result"
    }
   ],
   "source": [
    "not_palin"
   ]
  },
  {
   "cell_type": "code",
   "execution_count": 23,
   "metadata": {},
   "outputs": [],
   "source": [
    "palindrome = {}\n",
    "for word in palin:\n",
    "    palindrome[word] = True\n",
    "for word in not_palin:\n",
    "    palindrome[word] = False"
   ]
  },
  {
   "cell_type": "code",
   "execution_count": 24,
   "metadata": {},
   "outputs": [
    {
     "data": {
      "text/plain": [
       "{'kayak': True,\n",
       " 'deified': True,\n",
       " 'rotator': True,\n",
       " 'repaper': True,\n",
       " 'deed': True,\n",
       " 'peep': True,\n",
       " 'wow': True,\n",
       " 'noon': True,\n",
       " 'stacked': False,\n",
       " 'bored': False,\n",
       " 'fried': False,\n",
       " 'turkeys': False,\n",
       " 'batton': False,\n",
       " 'tiger': False,\n",
       " 'lions': False,\n",
       " 'bears': False}"
      ]
     },
     "execution_count": 24,
     "metadata": {},
     "output_type": "execute_result"
    }
   ],
   "source": [
    "palindrome"
   ]
  }
 ],
 "metadata": {
  "kernelspec": {
   "display_name": "Python (learn-env)",
   "language": "python",
   "name": "learn-env"
  },
  "language_info": {
   "codemirror_mode": {
    "name": "ipython",
    "version": 3
   },
   "file_extension": ".py",
   "mimetype": "text/x-python",
   "name": "python",
   "nbconvert_exporter": "python",
   "pygments_lexer": "ipython3",
   "version": "3.8.5"
  }
 },
 "nbformat": 4,
 "nbformat_minor": 4
}
